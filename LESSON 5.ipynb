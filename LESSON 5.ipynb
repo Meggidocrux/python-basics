{
 "cells": [
  {
   "cell_type": "code",
   "execution_count": 39,
   "id": "867e1878-eb3e-4040-8050-35feb469dc56",
   "metadata": {},
   "outputs": [
    {
     "name": "stdout",
     "output_type": "stream",
     "text": [
      "Gc\n",
      "ajanaku\n"
     ]
    }
   ],
   "source": [
    "educational_background = {\"primary\": \"Gc\", \"secondary\": \"spaco\", \"tertiary\": \"ui\", \"post_tertiary\": \"ui\"}\n",
    "print(educational_background[\"primary\"])\n",
    "educational_background [\"primary\"]= \"orilomo'la n/p\"\n",
    "educational_background.update({\"primary\":\"ajanaku\"})\n",
    "print(educational_background[\"primary\"])"
   ]
  },
  {
   "cell_type": "markdown",
   "id": "25cf5e8a-fe01-44e2-aa05-7e0326dd16f3",
   "metadata": {},
   "source": [
    "# declare with { } --------> Curly brackets\n",
    " access with [ ] ---------->  square bracket "
   ]
  },
  {
   "cell_type": "code",
   "execution_count": 43,
   "id": "417673ba-6760-40e8-8b09-a8213c592b4a",
   "metadata": {},
   "outputs": [],
   "source": [
    "my_guys={\"jdvhjbhfhjdh\":\"jdvvghvdghvdhvdhgdhu\", \"hhgugghdudgfg\":\"hjdgdvyuhdcvgvgv\"}"
   ]
  },
  {
   "cell_type": "code",
   "execution_count": 134,
   "id": "1807a7fe-78ac-46b1-9a7e-39d3b26c0c64",
   "metadata": {},
   "outputs": [
    {
     "name": "stdout",
     "output_type": "stream",
     "text": [
      "{'name': 'chelsea', 'location': 'london', 'jersey colour': 'blue_and_white', 'league': 'epl'}\n",
      "dict_keys(['name', 'location', 'jersey colour', 'league'])\n",
      "{'location': 'london', 'jersey colour': 'blue_and_white', 'league': 'epl'}\n"
     ]
    }
   ],
   "source": [
    "my_club= {\"name\":\"chelsea\", \"location\":\"london\",\"jersey colour\":\"blue_and_white\", \"league\":\"epl\"}\n",
    "print(my_club)\n",
    "my_club_2= my_club.copy()\n",
    "my_club_2\n",
    "print(my_club.keys())\n",
    "my_club.pop(\"name\")\n",
    "print(my_club)"
   ]
  },
  {
   "cell_type": "code",
   "execution_count": 130,
   "id": "aaaf473d-6c96-4b9f-a87d-d97273e28903",
   "metadata": {},
   "outputs": [
    {
     "name": "stdout",
     "output_type": "stream",
     "text": [
      "dict_values(['chelsea', 'london', 'blue_and_white', 'epl'])\n",
      "blue_and_white\n"
     ]
    }
   ],
   "source": [
    "print(my_club.values())\n",
    "print(my_club[\"jersey colour\"])"
   ]
  },
  {
   "cell_type": "code",
   "execution_count": 138,
   "id": "bc5979b1-ac0c-4bad-86da-d7aabf9c9a42",
   "metadata": {},
   "outputs": [
    {
     "name": "stdout",
     "output_type": "stream",
     "text": [
      "yes, it is a male\n"
     ]
    }
   ],
   "source": [
    "gender = \"male\"\n",
    "if gender ==\"male\":\n",
    "    print(\"yes, it is a male\")\n",
    "elif gender == \"female\":\n",
    "    print(\"you are a female\")\n",
    "else:\n",
    "    print(\"you are bobrisky\")"
   ]
  },
  {
   "cell_type": "code",
   "execution_count": 150,
   "id": "d8358cb5-53d1-48bb-8ba4-400348f553fa",
   "metadata": {},
   "outputs": [
    {
     "name": "stdout",
     "output_type": "stream",
     "text": [
      "trash\n"
     ]
    }
   ],
   "source": [
    "car = \"bmw\"\n",
    "if car == \"benz\":\n",
    "    print(\"inferior\")\n",
    "elif car == \"vw\":\n",
    "    print(\"trouble\")\n",
    "else:\n",
    "   print(\"trash\")"
   ]
  },
  {
   "cell_type": "code",
   "execution_count": 152,
   "id": "45ef2a73-b8d9-42b1-a463-f70daa395b7e",
   "metadata": {},
   "outputs": [
    {
     "name": "stdout",
     "output_type": "stream",
     "text": [
      "greatest of all time\n"
     ]
    }
   ],
   "source": [
    "name = \"goat\"\n",
    "if name== \"goat\":\n",
    "    print(\"greatest of all time\")\n",
    "elif name == \"aguntan\":\n",
    "    print(\"obe\")\n",
    "else:\n",
    "    print(\"animal\")"
   ]
  },
  {
   "cell_type": "code",
   "execution_count": 25,
   "id": "9d2953d2-52c8-4b74-a2ad-1cb1a57fac7e",
   "metadata": {},
   "outputs": [
    {
     "name": "stdout",
     "output_type": "stream",
     "text": [
      "score grade is: A\n"
     ]
    }
   ],
   "source": [
    "score =100\n",
    "if score >=55:\n",
    "    print(\"score grade is: A\")\n",
    "elif score >=89:\n",
    "    print(\"score grade is: B\")\n",
    "elif score >=79:\n",
    "    print(\"score grade is: C\")\n",
    "elif score >= 69:\n",
    "    print(\"score grade is: D\")\n",
    "elif score >=59:\n",
    "    print(\"score grade is: E\")\n",
    "else:\n",
    "    print(\"score grade is: F\")"
   ]
  },
  {
   "cell_type": "code",
   "execution_count": null,
   "id": "3008ed3c-e6c0-46d9-81d9-37d307dcf84c",
   "metadata": {},
   "outputs": [],
   "source": []
  }
 ],
 "metadata": {
  "kernelspec": {
   "display_name": "Python 3 (ipykernel)",
   "language": "python",
   "name": "python3"
  },
  "language_info": {
   "codemirror_mode": {
    "name": "ipython",
    "version": 3
   },
   "file_extension": ".py",
   "mimetype": "text/x-python",
   "name": "python",
   "nbconvert_exporter": "python",
   "pygments_lexer": "ipython3",
   "version": "3.12.4"
  }
 },
 "nbformat": 4,
 "nbformat_minor": 5
}
