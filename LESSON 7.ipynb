{
 "cells": [
  {
   "cell_type": "code",
   "execution_count": 3,
   "id": "abe3a244-6f20-4ab6-8190-fd32c99dd69d",
   "metadata": {},
   "outputs": [
    {
     "name": "stdout",
     "output_type": "stream",
     "text": [
      "tinubu\n",
      "buhari\n",
      "adams\n"
     ]
    }
   ],
   "source": [
    "Apc_members = [\"tinubu\",\"buhari\",\"adams\"]\n",
    "for name in Apc_members:\n",
    "    print(name)"
   ]
  },
  {
   "cell_type": "code",
   "execution_count": 9,
   "id": "8ae2e824-60ee-4784-afea-ba9370ad3659",
   "metadata": {},
   "outputs": [
    {
     "name": "stdout",
     "output_type": "stream",
     "text": [
      "1\n",
      "2\n",
      "3\n",
      "4\n",
      "5\n",
      "6\n",
      "7\n",
      "8\n",
      "9\n",
      "10\n"
     ]
    }
   ],
   "source": [
    "numbers = [1,2,3,4,5,6,7,8,9,10]\n",
    "for no in numbers:\n",
    "    print(no)"
   ]
  },
  {
   "cell_type": "code",
   "execution_count": 15,
   "id": "729cad2c-298d-4786-acbf-d8111358f0e9",
   "metadata": {},
   "outputs": [
    {
     "name": "stdout",
     "output_type": "stream",
     "text": [
      "1\n",
      "2\n",
      "3\n",
      "4\n",
      "5\n",
      "6\n",
      "7\n",
      "8\n",
      "9\n",
      "10\n",
      "11\n",
      "12\n",
      "13\n",
      "14\n",
      "15\n",
      "16\n",
      "17\n",
      "18\n",
      "19\n",
      "20\n",
      "21\n",
      "22\n",
      "23\n",
      "24\n",
      "25\n",
      "26\n",
      "27\n",
      "28\n",
      "29\n",
      "30\n",
      "31\n",
      "32\n",
      "33\n",
      "34\n",
      "35\n",
      "36\n",
      "37\n",
      "38\n",
      "39\n",
      "40\n",
      "41\n",
      "42\n",
      "43\n",
      "44\n",
      "45\n",
      "46\n",
      "47\n",
      "48\n",
      "49\n",
      "50\n",
      "51\n",
      "52\n",
      "53\n",
      "54\n",
      "55\n",
      "56\n",
      "57\n",
      "58\n",
      "59\n",
      "60\n",
      "61\n",
      "62\n",
      "63\n",
      "64\n",
      "65\n",
      "66\n",
      "67\n",
      "68\n",
      "69\n",
      "70\n",
      "71\n",
      "72\n",
      "73\n",
      "74\n",
      "75\n",
      "76\n",
      "77\n",
      "78\n",
      "79\n",
      "80\n",
      "81\n",
      "82\n",
      "83\n",
      "84\n",
      "85\n",
      "86\n",
      "87\n",
      "88\n",
      "89\n",
      "90\n",
      "91\n",
      "92\n",
      "93\n",
      "94\n",
      "95\n",
      "96\n",
      "97\n",
      "98\n",
      "99\n",
      "100\n"
     ]
    }
   ],
   "source": [
    "numbers = range(1,101)\n",
    "for number in numbers:\n",
    "    print(number)"
   ]
  },
  {
   "cell_type": "code",
   "execution_count": 25,
   "id": "d75e0b6f-aa3a-4026-9d5a-d4c0fdcfc91b",
   "metadata": {},
   "outputs": [
    {
     "name": "stdout",
     "output_type": "stream",
     "text": [
      "2\n",
      "4\n",
      "6\n",
      "8\n",
      "10\n",
      "12\n",
      "14\n",
      "16\n",
      "18\n",
      "20\n",
      "22\n",
      "24\n",
      "26\n",
      "28\n",
      "30\n",
      "32\n",
      "34\n",
      "36\n",
      "38\n",
      "40\n",
      "42\n",
      "44\n",
      "46\n",
      "48\n",
      "50\n",
      "52\n",
      "54\n",
      "56\n",
      "58\n",
      "60\n",
      "62\n",
      "64\n",
      "66\n",
      "68\n",
      "70\n",
      "72\n",
      "74\n",
      "76\n",
      "78\n",
      "80\n",
      "82\n",
      "84\n",
      "86\n",
      "88\n",
      "90\n",
      "92\n",
      "94\n",
      "96\n",
      "98\n",
      "100\n"
     ]
    }
   ],
   "source": [
    "numbers = range(2,101,2)\n",
    "for number in numbers:\n",
    "    print(number)"
   ]
  },
  {
   "cell_type": "markdown",
   "id": "7017d8a1-ca72-4d51-b54c-2d2fd8d59cf2",
   "metadata": {},
   "source": [
    "# while loop"
   ]
  },
  {
   "cell_type": "code",
   "execution_count": 5,
   "id": "1be9dbdf-b8fb-49d9-8385-a3eaa0bd1c89",
   "metadata": {},
   "outputs": [
    {
     "name": "stdout",
     "output_type": "stream",
     "text": [
      "1\n",
      "2\n",
      "3\n",
      "4\n",
      "5\n",
      "6\n",
      "7\n",
      "8\n",
      "9\n",
      "10\n"
     ]
    }
   ],
   "source": [
    "for i in range(1,11):\n",
    "    print(i)"
   ]
  },
  {
   "cell_type": "code",
   "execution_count": 41,
   "id": "7b9297f0-d325-40d1-88ee-4f78c3e81175",
   "metadata": {},
   "outputs": [
    {
     "name": "stdout",
     "output_type": "stream",
     "text": [
      "current count is:  1\n",
      "current count is:  2\n",
      "current count is:  3\n",
      "current count is:  4\n",
      "current count is:  5\n"
     ]
    }
   ],
   "source": [
    "for i in range(1,11):\n",
    "    if i <=5:\n",
    "        print(\"current count is: \", i)\n",
    "    else:\n",
    "        break"
   ]
  },
  {
   "cell_type": "code",
   "execution_count": 51,
   "id": "5eec12a3-a84e-4a14-918a-c05f765999c3",
   "metadata": {},
   "outputs": [
    {
     "name": "stdout",
     "output_type": "stream",
     "text": [
      "current number is:  6\n",
      "current number is:  7\n",
      "current number is:  8\n",
      "current number is:  9\n",
      "current number is:  10\n"
     ]
    }
   ],
   "source": [
    "for i in range(1,11):\n",
    "    if i <=5:\n",
    "        continue\n",
    "    else:\n",
    "        print(\"current number is: \", i)"
   ]
  },
  {
   "cell_type": "code",
   "execution_count": 67,
   "id": "d97970b0-4e6e-4b8f-8e5f-36281825223a",
   "metadata": {},
   "outputs": [
    {
     "name": "stdout",
     "output_type": "stream",
     "text": [
      "current number is:  1\n",
      "current number is:  2\n",
      "current number is:  3\n",
      "current number is:  4\n",
      "current number is:  6\n",
      "current number is:  7\n",
      "current number is:  8\n",
      "current number is:  9\n",
      "current number is:  10\n",
      "10 was skipped\n"
     ]
    }
   ],
   "source": [
    "for i in range(1,11):\n",
    "    if i ==5:\n",
    "        continue\n",
    "    else:\n",
    "        print(\"current number is: \", i)\n",
    "        "
   ]
  },
  {
   "cell_type": "code",
   "execution_count": 57,
   "id": "50e3437b-4fed-48d3-8885-c7e7f3030453",
   "metadata": {},
   "outputs": [
    {
     "name": "stdout",
     "output_type": "stream",
     "text": [
      "1\n",
      "2\n",
      "4\n",
      "5\n",
      "6\n",
      "7\n",
      "8\n",
      "9\n",
      "10\n"
     ]
    }
   ],
   "source": [
    "for i in range (1,11):\n",
    "    if i ==3:\n",
    "        pass\n",
    "    else:\n",
    "        print (i)"
   ]
  },
  {
   "cell_type": "code",
   "execution_count": 85,
   "id": "5ebf21d8-38ba-4a6a-a680-aaa76cb7b861",
   "metadata": {},
   "outputs": [
    {
     "name": "stdout",
     "output_type": "stream",
     "text": [
      "index 0: and value 10\n",
      "index 1: and value 20\n",
      "index 2: and value 30\n",
      "index 3: and value 40\n"
     ]
    }
   ],
   "source": [
    "numbers = [10, 20, 30, 40]\n",
    "for index,i in enumerate(numbers):\n",
    "    print(f\"index {index}: and value {i}\")"
   ]
  },
  {
   "cell_type": "code",
   "execution_count": 109,
   "id": "683296cc-40e3-471c-b498-e63eba5e1dcd",
   "metadata": {},
   "outputs": [
    {
     "name": "stdout",
     "output_type": "stream",
     "text": [
      "the grade is F\n"
     ]
    }
   ],
   "source": [
    "#scores 70 =  GRADE A\n",
    "#scores 60-69 = GRADE B\n",
    "#SCORES 50-59 = GRADE C\n",
    "#SCORES 45- 49= GRADE D\n",
    "#SCORES 40-44 = GRADE E\n",
    "#SCORES 0- 39 = GRADE F\n",
    "\n",
    "scores =100\n",
    "if scores == 12:\n",
    "    print(\"the grade is A\")\n",
    "elif scores >= 60 and scores <=69:\n",
    "    print(\"the grade is B\")\n",
    "elif scores >= 50 and scores <=59:\n",
    "    print(\"the grade is C\")\n",
    "elif scores >=45 and scores <=49:\n",
    "    print(\"the grade is D\")\n",
    "elif scores >= 40 and scores <=44:\n",
    "    print(\"the grade is E\")\n",
    "else:\n",
    "    print(\"the grade is F\")"
   ]
  },
  {
   "cell_type": "code",
   "execution_count": null,
   "id": "10f1878d-8bed-4d8c-a4cb-c182da843080",
   "metadata": {},
   "outputs": [],
   "source": []
  }
 ],
 "metadata": {
  "kernelspec": {
   "display_name": "Python 3 (ipykernel)",
   "language": "python",
   "name": "python3"
  },
  "language_info": {
   "codemirror_mode": {
    "name": "ipython",
    "version": 3
   },
   "file_extension": ".py",
   "mimetype": "text/x-python",
   "name": "python",
   "nbconvert_exporter": "python",
   "pygments_lexer": "ipython3",
   "version": "3.12.4"
  }
 },
 "nbformat": 4,
 "nbformat_minor": 5
}
