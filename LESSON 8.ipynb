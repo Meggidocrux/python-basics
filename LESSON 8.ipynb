{
 "cells": [
  {
   "cell_type": "code",
   "execution_count": 1,
   "id": "56a7225b-4c82-4c8c-b7d2-da7deea584a8",
   "metadata": {},
   "outputs": [
    {
     "name": "stdout",
     "output_type": "stream",
     "text": [
      "29\n"
     ]
    }
   ],
   "source": [
    "Numbers = 5,10,11,1,2\n",
    "total_value = 5+10+11+1+2\n",
    "print(total_value)"
   ]
  },
  {
   "cell_type": "code",
   "execution_count": 3,
   "id": "e6f474cb-55cf-4c9b-9067-271052c4b8cf",
   "metadata": {},
   "outputs": [
    {
     "name": "stdout",
     "output_type": "stream",
     "text": [
      "5.8\n"
     ]
    }
   ],
   "source": [
    "mean = 29/5\n",
    "print(mean)"
   ]
  },
  {
   "cell_type": "code",
   "execution_count": 21,
   "id": "f73e1141-e9cc-4f9b-9ee5-b5051468f625",
   "metadata": {},
   "outputs": [
    {
     "name": "stdout",
     "output_type": "stream",
     "text": [
      "[29]\n"
     ]
    }
   ],
   "source": [
    "numbers = [5+10+11+1+2]\n",
    "rearranged_numbers = [1+2+5+10+11]\n",
    "print (rearranged_numbers)"
   ]
  },
  {
   "cell_type": "code",
   "execution_count": null,
   "id": "946896f4-8e2e-4cf2-bc41-74eb6c7acd88",
   "metadata": {},
   "outputs": [],
   "source": []
  },
  {
   "cell_type": "code",
   "execution_count": null,
   "id": "0f31536e-944a-4d12-92d5-0078fd908e39",
   "metadata": {},
   "outputs": [],
   "source": []
  }
 ],
 "metadata": {
  "kernelspec": {
   "display_name": "Python 3 (ipykernel)",
   "language": "python",
   "name": "python3"
  },
  "language_info": {
   "codemirror_mode": {
    "name": "ipython",
    "version": 3
   },
   "file_extension": ".py",
   "mimetype": "text/x-python",
   "name": "python",
   "nbconvert_exporter": "python",
   "pygments_lexer": "ipython3",
   "version": "3.12.4"
  }
 },
 "nbformat": 4,
 "nbformat_minor": 5
}
