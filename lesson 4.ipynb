{
 "cells": [
  {
   "cell_type": "code",
   "execution_count": 13,
   "id": "d7a466be-79dc-419d-af49-a6b2e5b0b961",
   "metadata": {},
   "outputs": [
    {
     "name": "stdout",
     "output_type": "stream",
     "text": [
      "['Metro', 'Sp', 'Ui', 'Ui']\n"
     ]
    }
   ],
   "source": [
    "my_schools= [\"Gd\",\"Sp\",\"Ui\",\"Ui\"]\n",
    "my_schools [0]=\"Metro\"\n",
    "print(my_schools)"
   ]
  },
  {
   "cell_type": "code",
   "execution_count": 69,
   "id": "7ddb2786-59df-4a1d-a7ed-ddcf2f6767a4",
   "metadata": {},
   "outputs": [
    {
     "name": "stdout",
     "output_type": "stream",
     "text": [
      "my_schools: ['ops', 'mhs', 'futa', 'mit']\n",
      "copy_of_my_schools: ['spaco', 'mhs', 'futa', 'mit']\n"
     ]
    }
   ],
   "source": [
    "my_schools = [\"ops\", \"mhs\", \"futa\", \"mit\"]\n",
    "copy_of_my_schools = my_schools[:]\n",
    "copy_of_my_schools_2 = my_schools.copy()\n",
    "copy_of_my_schools[0] = \"spaco\"\n",
    "print(\"my_schools:\",my_schools)\n",
    "print(\"copy_of_my_schools:\", copy_of_my_schools)\n",
    "\n"
   ]
  },
  {
   "cell_type": "markdown",
   "id": "e0d2c708-7b67-4005-abec-f829a00d7ac9",
   "metadata": {},
   "source": [
    "# dictionary data type"
   ]
  },
  {
   "cell_type": "code",
   "execution_count": 123,
   "id": "a8e0daee-06ff-4523-a1c6-f72ab72b2419",
   "metadata": {},
   "outputs": [
    {
     "name": "stdout",
     "output_type": "stream",
     "text": [
      "{'name': 'feyisara', 'height': '7.2', 'colour': 'orange', 'age': '99', 'gender': 'male'}\n",
      "dict_values(['feyisara', '7.2', 'orange', '99', 'male'])\n",
      "feyisara\n",
      "orange\n",
      "colour is: matte black\n"
     ]
    }
   ],
   "source": [
    "my_self = {\"name\": \"feyisara\", \"height\":\"7.2\", \"colour\": \"orange\", \"age\":\"99\", \"gender\": \"male\"}\n",
    "print(my_self)\n",
    "print(my_self.values())\n",
    "print(my_self[\"name\"])\n",
    "print(my_self[\"colour\"])\n",
    "my_self[\"colour\"]= \"matte black\"\n",
    "print(\"colour is:\", my_self[\"colour\"])"
   ]
  },
  {
   "cell_type": "code",
   "execution_count": null,
   "id": "cd5262fb-89d9-4db4-babf-33ab633ffb4d",
   "metadata": {},
   "outputs": [],
   "source": []
  },
  {
   "cell_type": "code",
   "execution_count": null,
   "id": "8c08ae4a-c7b8-4016-93d8-9b56db746a0a",
   "metadata": {},
   "outputs": [],
   "source": []
  }
 ],
 "metadata": {
  "kernelspec": {
   "display_name": "Python 3 (ipykernel)",
   "language": "python",
   "name": "python3"
  },
  "language_info": {
   "codemirror_mode": {
    "name": "ipython",
    "version": 3
   },
   "file_extension": ".py",
   "mimetype": "text/x-python",
   "name": "python",
   "nbconvert_exporter": "python",
   "pygments_lexer": "ipython3",
   "version": "3.12.4"
  }
 },
 "nbformat": 4,
 "nbformat_minor": 5
}
