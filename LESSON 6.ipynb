{
 "cells": [
  {
   "cell_type": "markdown",
   "id": "f7937601-a171-4198-8ed7-3bd165f026e1",
   "metadata": {},
   "source": [
    "# AGE SHOULD BE MORE THAN OR EQUAL TO 18\n",
    "# CUT OFF MARK MUST BE GREATER OR EQUAL TO 200"
   ]
  },
  {
   "cell_type": "code",
   "execution_count": null,
   "id": "9759e8d1-899f-4648-8341-89471e1399f3",
   "metadata": {},
   "outputs": [],
   "source": [
    "score = 190\n",
    "age = 19\n",
    "if age >=17:\n",
    "    print(\"you are underage\")\n",
    "    "
   ]
  },
  {
   "cell_type": "code",
   "execution_count": null,
   "id": "a0508d14-525f-47d3-83a8-ca8e6e4dd16a",
   "metadata": {},
   "outputs": [],
   "source": []
  },
  {
   "cell_type": "code",
   "execution_count": 3,
   "id": "97ecad8e-a7e9-4367-aad0-cfd1d41ccbd2",
   "metadata": {},
   "outputs": [
    {
     "name": "stdout",
     "output_type": "stream",
     "text": [
      "you are qualified for a gift for scoring 70 and above in math\n"
     ]
    }
   ],
   "source": [
    "sunday_school_score = 5\n",
    "math_score = 100\n",
    "if sunday_school_score >= 70:\n",
    "    print(\"you are qualified for a gift\")\n",
    "elif math_score >=70:\n",
    "    print(\"you are qualified for a gift for scoring 70 and above in math\")\n",
    "else:\n",
    "    print(\"you are not qualified for PS5\")"
   ]
  },
  {
   "cell_type": "code",
   "execution_count": 13,
   "id": "2b546e0a-749d-4a0a-8352-99037468297e",
   "metadata": {},
   "outputs": [
    {
     "name": "stdout",
     "output_type": "stream",
     "text": [
      "deny access\n"
     ]
    }
   ],
   "source": [
    "cloth_type = \"ankara\"\n",
    "our_own_ankara = \"yellow\"\n",
    "if cloth_type == \"ankara\":\n",
    "    if our_own_ankara ==\"black\":\n",
    "        print(\"grant access\")\n",
    "    else:\n",
    "        print(\"deny access\")\n",
    "    \n",
    "else:\n",
    "    print(\"don't enter\")"
   ]
  },
  {
   "cell_type": "code",
   "execution_count": 17,
   "id": "d0df132d-1844-4090-a860-c1864a2927f6",
   "metadata": {},
   "outputs": [
    {
     "name": "stdout",
     "output_type": "stream",
     "text": [
      "grant access\n"
     ]
    }
   ],
   "source": [
    "cloth_type = \"ankara\"\n",
    "our_own_type = \"yellow\"\n",
    "if cloth_type == \"ankara\" and our_own_type == \"yellow\":\n",
    "    print(\"grant access\")\n",
    "else:\n",
    "    print(\"deny access\")"
   ]
  },
  {
   "cell_type": "code",
   "execution_count": 38,
   "id": "9badbb33-6ee7-45af-a975-802c702d5bb9",
   "metadata": {},
   "outputs": [
    {
     "name": "stdout",
     "output_type": "stream",
     "text": [
      "it is hot outside\n"
     ]
    }
   ],
   "source": [
    "temperature = 100\n",
    "if temperature >= 40:\n",
    "    print(\"it is hot outside\")\n",
    "    if temperature <= 10:\n",
    "     print(\"it is cold outside\")\n",
    "    if temperature == 10 and teperature == 40:\n",
    "        print(\"it is moderate\")\n",
    "    "
   ]
  },
  {
   "cell_type": "code",
   "execution_count": 25,
   "id": "1de9d671-3baa-4f30-a606-8fb908176950",
   "metadata": {},
   "outputs": [
    {
     "name": "stdout",
     "output_type": "stream",
     "text": [
      "it is a leap year\n"
     ]
    }
   ],
   "source": [
    "year = 2024\n",
    "if (year % 4 ) ==0 or ((year % 100) ==0 and (year % 400)==0):\n",
    "    print(\"it is a leap year\")\n",
    "else:\n",
    "    print(\"it is not a leap year\")"
   ]
  },
  {
   "cell_type": "code",
   "execution_count": 52,
   "id": "37f7a03e-1497-4020-8d39-df8cfc0491e5",
   "metadata": {},
   "outputs": [
    {
     "data": {
      "text/plain": [
       "{'Hello': 2, 'world': 2, 'everyone': 1, 'in': 1, 'the': 1}"
      ]
     },
     "execution_count": 52,
     "metadata": {},
     "output_type": "execute_result"
    }
   ],
   "source": [
    "text = \"Hello world Hello everyone in the world\"\n",
    "words = text.split()\n",
    "word_count = {}\n",
    "for word in words:\n",
    "    if word in word_count:\n",
    "        word_count[word] += 1\n",
    "    else:\n",
    "        word_count[word] = 1\n",
    "word_count"
   ]
  },
  {
   "cell_type": "code",
   "execution_count": 57,
   "id": "7741942f-6361-4861-b093-e8f204c318ed",
   "metadata": {},
   "outputs": [
    {
     "name": "stdout",
     "output_type": "stream",
     "text": [
      "\"listen\" and \"silent\" are anagrams.\n"
     ]
    }
   ],
   "source": [
    "str1 = \"listen\"\n",
    "str2 = \"silent\"\n",
    "def are_anagrams(str1, str2):\n",
    "    return sorted(str1) == sorted(str2)\n",
    "if are_anagrams(str1, str2):\n",
    "    print(f'\"{str1}\" and \"{str2}\" are anagrams.')\n",
    "else:\n",
    "    print(f'\"{str1}\" and \"{str2}\" are not anagrams.')"
   ]
  },
  {
   "cell_type": "code",
   "execution_count": 37,
   "id": "5099360b-0584-4a34-bd2c-86e4017c65ae",
   "metadata": {},
   "outputs": [
    {
     "name": "stdout",
     "output_type": "stream",
     "text": [
      "1 is an odd number\n",
      "2 is even number\n",
      "3 is an odd number\n",
      "4 is even number\n",
      "5 is an odd number\n",
      "6 is even number\n",
      "7 is an odd number\n",
      "8 is even number\n",
      "9 is an odd number\n",
      "10 is even number\n",
      "11 is an odd number\n",
      "12 is even number\n",
      "13 is an odd number\n",
      "14 is even number\n",
      "15 is an odd number\n",
      "16 is even number\n",
      "17 is an odd number\n",
      "18 is even number\n",
      "19 is an odd number\n",
      "20 is even number\n",
      "21 is an odd number\n",
      "22 is even number\n",
      "23 is an odd number\n",
      "24 is even number\n",
      "25 is an odd number\n",
      "26 is even number\n",
      "27 is an odd number\n",
      "28 is even number\n",
      "29 is an odd number\n",
      "30 is even number\n",
      "31 is an odd number\n",
      "32 is even number\n",
      "33 is an odd number\n",
      "34 is even number\n",
      "35 is an odd number\n",
      "36 is even number\n",
      "37 is an odd number\n",
      "38 is even number\n",
      "39 is an odd number\n",
      "40 is even number\n",
      "41 is an odd number\n",
      "42 is even number\n",
      "43 is an odd number\n",
      "44 is even number\n",
      "45 is an odd number\n",
      "46 is even number\n",
      "47 is an odd number\n",
      "48 is even number\n",
      "49 is an odd number\n",
      "50 is even number\n",
      "51 is an odd number\n",
      "52 is even number\n",
      "53 is an odd number\n",
      "54 is even number\n",
      "55 is an odd number\n",
      "56 is even number\n",
      "57 is an odd number\n",
      "58 is even number\n",
      "59 is an odd number\n",
      "60 is even number\n",
      "61 is an odd number\n",
      "62 is even number\n",
      "63 is an odd number\n",
      "64 is even number\n",
      "65 is an odd number\n",
      "66 is even number\n",
      "67 is an odd number\n",
      "68 is even number\n",
      "69 is an odd number\n",
      "70 is even number\n",
      "71 is an odd number\n",
      "72 is even number\n",
      "73 is an odd number\n",
      "74 is even number\n",
      "75 is an odd number\n",
      "76 is even number\n",
      "77 is an odd number\n",
      "78 is even number\n",
      "79 is an odd number\n",
      "80 is even number\n",
      "81 is an odd number\n",
      "82 is even number\n",
      "83 is an odd number\n",
      "84 is even number\n",
      "85 is an odd number\n",
      "86 is even number\n",
      "87 is an odd number\n",
      "88 is even number\n",
      "89 is an odd number\n",
      "90 is even number\n",
      "91 is an odd number\n",
      "92 is even number\n",
      "93 is an odd number\n",
      "94 is even number\n",
      "95 is an odd number\n",
      "96 is even number\n",
      "97 is an odd number\n",
      "98 is even number\n",
      "99 is an odd number\n"
     ]
    }
   ],
   "source": [
    "for number in range (1,100):\n",
    "    if ((number % 2) ==0):\n",
    "        print(f\"{number} is even number\")\n",
    "    else:\n",
    "        print(f\"{number} is an odd number\")"
   ]
  },
  {
   "cell_type": "code",
   "execution_count": null,
   "id": "7d56d590-388b-4ea4-95fc-b0ed8963ab0e",
   "metadata": {},
   "outputs": [],
   "source": []
  }
 ],
 "metadata": {
  "kernelspec": {
   "display_name": "Python 3 (ipykernel)",
   "language": "python",
   "name": "python3"
  },
  "language_info": {
   "codemirror_mode": {
    "name": "ipython",
    "version": 3
   },
   "file_extension": ".py",
   "mimetype": "text/x-python",
   "name": "python",
   "nbconvert_exporter": "python",
   "pygments_lexer": "ipython3",
   "version": "3.12.4"
  }
 },
 "nbformat": 4,
 "nbformat_minor": 5
}
