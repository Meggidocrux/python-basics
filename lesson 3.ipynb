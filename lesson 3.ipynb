{
 "cells": [
  {
   "cell_type": "markdown",
   "id": "a9688bca-dc43-4491-bd6f-59a2c3fa23ca",
   "metadata": {},
   "source": [
    "# slicing in string operation"
   ]
  },
  {
   "cell_type": "code",
   "execution_count": null,
   "id": "b6ae5af8-15d3-41db-816c-766f2655a4a6",
   "metadata": {},
   "outputs": [],
   "source": [
    "# slicing means extracting specific segment of a string by defining a start index, a stop index, and an operational step value."
   ]
  },
  {
   "cell_type": "code",
   "execution_count": 9,
   "id": "01e10c98-97b0-4c18-8ee8-ca2821f27f96",
   "metadata": {},
   "outputs": [
    {
     "name": "stdout",
     "output_type": "stream",
     "text": [
      "feyi\n"
     ]
    }
   ],
   "source": [
    "my_name= \"feyisara\"\n",
    "sliced_name= my_name[0:4]\n",
    "print(sliced_name)"
   ]
  },
  {
   "cell_type": "code",
   "execution_count": 15,
   "id": "b1e77ba4-3156-4fd2-b911-1cb9bfcbf99d",
   "metadata": {},
   "outputs": [
    {
     "name": "stdout",
     "output_type": "stream",
     "text": [
      "\"hello, Mr Timothy\"\n"
     ]
    }
   ],
   "source": [
    "print(\"\\\"hello, Mr Timothy\\\"\")"
   ]
  },
  {
   "cell_type": "code",
   "execution_count": 27,
   "id": "5df19147-7330-4690-aca5-0d629599035e",
   "metadata": {},
   "outputs": [
    {
     "name": "stdout",
     "output_type": "stream",
     "text": [
      "\thello\n"
     ]
    }
   ],
   "source": [
    "print(\"\\thello\")"
   ]
  },
  {
   "cell_type": "code",
   "execution_count": 37,
   "id": "38916a38-26f3-42a2-b386-dc4ee30186a9",
   "metadata": {},
   "outputs": [
    {
     "name": "stdout",
     "output_type": "stream",
     "text": [
      "\tHello, Mr Timothy. \n",
      "How are you doing today sir?\n"
     ]
    }
   ],
   "source": [
    "print(\"\\tHello, Mr Timothy. \\nHow are you doing today sir?\")"
   ]
  },
  {
   "cell_type": "code",
   "execution_count": 41,
   "id": "82e58a28-18c6-4d94-b0f1-5c8b1c90f9e6",
   "metadata": {},
   "outputs": [
    {
     "name": "stdout",
     "output_type": "stream",
     "text": [
      "arasiyef\n"
     ]
    }
   ],
   "source": [
    "name= \"feyisara\"\n",
    "rev_name = name[::-1]\n",
    "print(rev_name)"
   ]
  },
  {
   "cell_type": "code",
   "execution_count": 43,
   "id": "05f3d18b-d55d-4c9a-b956-bc772960569e",
   "metadata": {},
   "outputs": [
    {
     "name": "stdout",
     "output_type": "stream",
     "text": [
      "edimoya\n"
     ]
    }
   ],
   "source": [
    "name=\"ayomide\"\n",
    "rev_name=name[::-1]\n",
    "print(rev_name)"
   ]
  },
  {
   "cell_type": "markdown",
   "id": "42e2ed31-035d-4011-80e8-2b3b67df38ed",
   "metadata": {},
   "source": [
    "# in operator"
   ]
  },
  {
   "cell_type": "code",
   "execution_count": 46,
   "id": "c6add2cd-4e24-4d46-9128-410ade70e851",
   "metadata": {},
   "outputs": [],
   "source": [
    "#look for examples from the slides"
   ]
  },
  {
   "cell_type": "markdown",
   "id": "dece799c-d328-4e8e-8384-655c43993fd4",
   "metadata": {},
   "source": [
    "# list"
   ]
  },
  {
   "cell_type": "code",
   "execution_count": 49,
   "id": "b2bed8f3-d2ae-4cfe-aabb-b1e432123127",
   "metadata": {},
   "outputs": [],
   "source": [
    "#look for examples from the slides"
   ]
  },
  {
   "cell_type": "code",
   "execution_count": 63,
   "id": "a3ad2e62-4252-4126-af69-da10a5f33d36",
   "metadata": {},
   "outputs": [
    {
     "name": "stdout",
     "output_type": "stream",
     "text": [
      "Abimbola\n",
      "Kassim\n",
      "['Kassim', 'Bukola']\n"
     ]
    }
   ],
   "source": [
    "my_siblings = [\"Kassim\",\"Bukola\",\"Abimbola\"]\n",
    "print(my_siblings[-1])\n",
    "print(my_siblings[0])\n",
    "print(my_siblings[0:2])\n"
   ]
  },
  {
   "cell_type": "code",
   "execution_count": 24,
   "id": "6a671494-2155-4589-b659-563b4567fdf4",
   "metadata": {},
   "outputs": [
    {
     "name": "stdout",
     "output_type": "stream",
     "text": [
      "hip hop\n",
      "p\n",
      "hi\n",
      "p\n"
     ]
    }
   ],
   "source": [
    "name=\"feyisara\"\n",
    "genre= \"hip hop\"\n",
    "print(genre)\n",
    "print(genre[6])\n",
    "print(genre[0:2])\n",
    "print(genre[-1])"
   ]
  },
  {
   "cell_type": "code",
   "execution_count": 40,
   "id": "61f8be45-a478-44c0-b11f-d05383ec773d",
   "metadata": {},
   "outputs": [
    {
     "name": "stdout",
     "output_type": "stream",
     "text": [
      "Ayomide\n",
      "how are you?\n",
      "When is your birthday?\n"
     ]
    }
   ],
   "source": [
    "print(\"Ayomide\")\n",
    "print(\"how are you?\\nWhen is your birthday?\")"
   ]
  },
  {
   "cell_type": "code",
   "execution_count": 18,
   "id": "04f23588-5715-4bf7-9df3-5f473dd17588",
   "metadata": {},
   "outputs": [
    {
     "name": "stdin",
     "output_type": "stream",
     "text": [
      "enter the length of side a:  10\n",
      "enter the length of side b:  10\n"
     ]
    },
    {
     "name": "stdout",
     "output_type": "stream",
     "text": [
      "20.0\n"
     ]
    }
   ],
   "source": [
    "number_1 = float(input(\"enter the length of side a: \"))\n",
    "number_2 = float(input(\"enter the length of side b: \"))\n",
    "print(number_1+number_2)"
   ]
  },
  {
   "cell_type": "code",
   "execution_count": 38,
   "id": "8af26bd9-7863-43cd-98ed-9703db1cec60",
   "metadata": {},
   "outputs": [
    {
     "name": "stdin",
     "output_type": "stream",
     "text": [
      "enter the radius of the circle:  2\n"
     ]
    },
    {
     "name": "stdout",
     "output_type": "stream",
     "text": [
      "12.68\n"
     ]
    }
   ],
   "source": [
    "import math\n",
    "r= float(input(\"enter the radius of the circle: \"))\n",
    "pi = 3.17\n",
    "area = pi *( r ** 2)\n",
    "print(area)"
   ]
  },
  {
   "cell_type": "code",
   "execution_count": 2,
   "id": "d9df0672-06ff-4fd9-ab20-75194f7fdf7a",
   "metadata": {},
   "outputs": [
    {
     "name": "stdin",
     "output_type": "stream",
     "text": [
      "enter a radius:  2\n"
     ]
    },
    {
     "name": "stdout",
     "output_type": "stream",
     "text": [
      "12.566370614359172\n"
     ]
    }
   ],
   "source": [
    "import math\n",
    "r = float(input(\"enter a radius: \"))\n",
    "area = math.pi * r **2\n",
    "print(area)\n"
   ]
  },
  {
   "cell_type": "code",
   "execution_count": 20,
   "id": "27874b0f-6d12-4469-8999-8ee8589ba1b6",
   "metadata": {},
   "outputs": [],
   "source": [
    "a =10\n",
    "b =5"
   ]
  },
  {
   "cell_type": "code",
   "execution_count": 12,
   "id": "78346af1-b254-461c-9b4d-744796dfa6b7",
   "metadata": {},
   "outputs": [
    {
     "name": "stdout",
     "output_type": "stream",
     "text": [
      "addition: 4\n"
     ]
    }
   ],
   "source": [
    "a = 2\n",
    "b = 2\n",
    "addition= a+b\n",
    "print(\"addition:\", addition)"
   ]
  },
  {
   "cell_type": "code",
   "execution_count": 22,
   "id": "41d1f25c-e49b-4e1f-9995-3c4c069f5c0a",
   "metadata": {},
   "outputs": [
    {
     "name": "stdout",
     "output_type": "stream",
     "text": [
      "subtraction: 2\n"
     ]
    }
   ],
   "source": [
    "a = 5\n",
    "b=3\n",
    "subtraction = a-b\n",
    "print(\"subtraction:\", subtraction)"
   ]
  },
  {
   "cell_type": "code",
   "execution_count": 24,
   "id": "433f9e28-a37c-49b2-abc0-ff50bf3b60cc",
   "metadata": {},
   "outputs": [
    {
     "name": "stdout",
     "output_type": "stream",
     "text": [
      "multiplication: 6\n"
     ]
    }
   ],
   "source": [
    "a = 2\n",
    "b = 3\n",
    "multiplication = a*b\n",
    "print(\"multiplication:\", multiplication)"
   ]
  },
  {
   "cell_type": "code",
   "execution_count": 28,
   "id": "1890a6ff-8166-44f6-83c9-854d95252bbe",
   "metadata": {},
   "outputs": [
    {
     "name": "stdout",
     "output_type": "stream",
     "text": [
      "divison: 5.0\n"
     ]
    }
   ],
   "source": [
    "a = 10\n",
    "b = 2\n",
    "division = a/b\n",
    "print(\"divison:\", division)"
   ]
  },
  {
   "cell_type": "code",
   "execution_count": 35,
   "id": "fd0662b9-cf3e-42ad-8dc0-d47f0fe0b13a",
   "metadata": {},
   "outputs": [
    {
     "name": "stdout",
     "output_type": "stream",
     "text": [
      "feyisara jinadu-adewale\n"
     ]
    }
   ],
   "source": [
    "firstname= \"feyisara\"\n",
    "lastname = \"jinadu-adewale\"\n",
    "print(firstname,lastname)"
   ]
  },
  {
   "cell_type": "code",
   "execution_count": 51,
   "id": "356d8e41-0ab7-4263-8679-d490e0fc7880",
   "metadata": {},
   "outputs": [
    {
     "name": "stdout",
     "output_type": "stream",
     "text": [
      "feyisara jinadu-adewale\n"
     ]
    }
   ],
   "source": [
    "firstname= \"feyisara\"\n",
    "lastname= \"jinadu-adewale\"\n",
    "fullname= firstname + ' ' + lastname\n",
    "print(fullname)"
   ]
  },
  {
   "cell_type": "code",
   "execution_count": null,
   "id": "cb46aa82-465a-4fce-b228-f9052f9d6663",
   "metadata": {},
   "outputs": [],
   "source": []
  }
 ],
 "metadata": {
  "kernelspec": {
   "display_name": "Python 3 (ipykernel)",
   "language": "python",
   "name": "python3"
  },
  "language_info": {
   "codemirror_mode": {
    "name": "ipython",
    "version": 3
   },
   "file_extension": ".py",
   "mimetype": "text/x-python",
   "name": "python",
   "nbconvert_exporter": "python",
   "pygments_lexer": "ipython3",
   "version": "3.12.4"
  }
 },
 "nbformat": 4,
 "nbformat_minor": 5
}
