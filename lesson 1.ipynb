{
 "cells": [
  {
   "cell_type": "code",
   "execution_count": 1,
   "id": "a6b9d547-999f-474a-ae46-12a267fabe4b",
   "metadata": {},
   "outputs": [
    {
     "name": "stdout",
     "output_type": "stream",
     "text": [
      "hello world!\n"
     ]
    }
   ],
   "source": [
    "print(\"hello world!\")"
   ]
  },
  {
   "cell_type": "code",
   "execution_count": 7,
   "id": "785324cb-a9a6-4d4f-add9-6677e3fbcd3b",
   "metadata": {},
   "outputs": [
    {
     "name": "stdout",
     "output_type": "stream",
     "text": [
      "feyisara Jinadu-Adewale\n"
     ]
    }
   ],
   "source": [
    "print(\"feyisara Jinadu-Adewale\")"
   ]
  },
  {
   "cell_type": "code",
   "execution_count": 17,
   "id": "fbce9340-056d-4929-9ca5-98dca5a2120b",
   "metadata": {},
   "outputs": [
    {
     "name": "stdout",
     "output_type": "stream",
     "text": [
      "90\n"
     ]
    }
   ],
   "source": [
    "print (90)"
   ]
  },
  {
   "cell_type": "code",
   "execution_count": 19,
   "id": "57619a48-b3a2-47df-b4ea-db9fde22aef3",
   "metadata": {},
   "outputs": [],
   "source": [
    "#print(\"hello world, my name is Feyisara.\")\n",
    "#print (\" I am 90 years old\")"
   ]
  },
  {
   "cell_type": "code",
   "execution_count": 20,
   "id": "5faebc6a-68a8-454f-9a4e-23032b2d4467",
   "metadata": {},
   "outputs": [],
   "source": [
    "print(\"Feyisara Jinadu-Adewale\")"
   ]
  },
  {
   "cell_type": "code",
   "execution_count": null,
   "id": "0b6516a1-3a9d-4661-909f-e17b1becb12b",
   "metadata": {},
   "outputs": [],
   "source": [
    "# Data type is a classification of data. \n",
    "#numbers are integers\n",
    "#name is a string \n",
    "\n",
    "                            #concept related to data types\n",
    "#type safety\n",
    "#dynamic and static typing\n",
    "#immutability and mutability: immutability means data that can not be changed\n",
    "                                #mutable data can be changed\n",
    "\n",
    "\n",
    "                                #data type\n",
    "\n",
    "#integer: theses are numbers that can be written\n",
    "#strings\n",
    " #boolean can only be two values. true or false\n",
    "\n",
    "\n",
    "strings has methods, \n",
    "some functions have methods \n",
    "#variables \n"
   ]
  },
  {
   "cell_type": "code",
   "execution_count": 13,
   "id": "fd8a99a2-90c0-43a7-8a4f-418499d9b72d",
   "metadata": {},
   "outputs": [
    {
     "data": {
      "text/plain": [
       "int"
      ]
     },
     "execution_count": 13,
     "metadata": {},
     "output_type": "execute_result"
    }
   ],
   "source": [
    "type(100)"
   ]
  },
  {
   "cell_type": "code",
   "execution_count": null,
   "id": "fd2959e9-87e4-4a47-ba3d-efba5ed246f1",
   "metadata": {},
   "outputs": [],
   "source": []
  },
  {
   "cell_type": "markdown",
   "id": "a54f5129-cf2a-44ce-9651-2af6db15492c",
   "metadata": {},
   "source": []
  },
  {
   "cell_type": "code",
   "execution_count": 15,
   "id": "5e43783e-71b7-46b2-ade9-a8167e093b4c",
   "metadata": {},
   "outputs": [
    {
     "data": {
      "text/plain": [
       "'feyisarz'"
      ]
     },
     "execution_count": 15,
     "metadata": {},
     "output_type": "execute_result"
    }
   ],
   "source": [
    "Firstname = \"Feyisara\"\n",
    "Firstname.Replace(\"ra\",\"rz\")"
   ]
  },
  {
   "cell_type": "code",
   "execution_count": 81,
   "id": "a325fb0d-14ce-444c-b0c8-8a79f456791e",
   "metadata": {},
   "outputs": [
    {
     "name": "stdout",
     "output_type": "stream",
     "text": [
      "FEYISARA Jinadu-Adewale\n"
     ]
    }
   ],
   "source": [
    "firstname = \"FEYISARA\"\n",
    "surname= \"Jinadu-Adewale\"\n",
    "fullname= firstname+ \" \" + surname\n",
    "print(fullname)\n"
   ]
  },
  {
   "cell_type": "code",
   "execution_count": 63,
   "id": "a3c5991f-5f44-48ae-8f19-216d99af3f09",
   "metadata": {},
   "outputs": [
    {
     "name": "stdout",
     "output_type": "stream",
     "text": [
      "FEYISARA Jinadu-Adewale\n"
     ]
    }
   ],
   "source": [
    "print(\"FEYISARA\"+ \" \" + \"Jinadu-Adewale\")"
   ]
  },
  {
   "cell_type": "code",
   "execution_count": 79,
   "id": "bd65dd89-78fd-404c-81f1-ea7a9924d7fb",
   "metadata": {},
   "outputs": [
    {
     "name": "stdout",
     "output_type": "stream",
     "text": [
      "feyisara\n",
      "jinadu-adewale\n",
      "FEYISARA\n",
      "Jinadu-Adewale\n"
     ]
    }
   ],
   "source": [
    "print(\"feyisara\")\n",
    "print(\"jinadu-adewale\")\n",
    "print(\"feyisara\".upper())\n",
    "print(\"jinadu-adewale\".title())\n",
    "\n"
   ]
  },
  {
   "cell_type": "code",
   "execution_count": 85,
   "id": "5e999b62-0f84-4265-ba0e-192d9fb356d6",
   "metadata": {},
   "outputs": [
    {
     "name": "stdout",
     "output_type": "stream",
     "text": [
      "FEYISARA Jinadu-Adewale\n"
     ]
    }
   ],
   "source": [
    "firstName = 'Feyisara'\n",
    "surName = 'jinadu-dewale'\n",
    "print(firstName.upper(),surName.title())"
   ]
  },
  {
   "cell_type": "code",
   "execution_count": null,
   "id": "f808d760-470a-41b4-80aa-b9f32502a2f8",
   "metadata": {},
   "outputs": [],
   "source": []
  }
 ],
 "metadata": {
  "kernelspec": {
   "display_name": "Python 3 (ipykernel)",
   "language": "python",
   "name": "python3"
  },
  "language_info": {
   "codemirror_mode": {
    "name": "ipython",
    "version": 3
   },
   "file_extension": ".py",
   "mimetype": "text/x-python",
   "name": "python",
   "nbconvert_exporter": "python",
   "pygments_lexer": "ipython3",
   "version": "3.12.4"
  }
 },
 "nbformat": 4,
 "nbformat_minor": 5
}
