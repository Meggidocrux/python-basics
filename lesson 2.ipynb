{
 "cells": [
  {
   "cell_type": "markdown",
   "id": "47c412b0-2235-43fa-97f6-9b142f742e7f",
   "metadata": {},
   "source": [
    "# learning about string functions"
   ]
  },
  {
   "cell_type": "code",
   "execution_count": 3,
   "id": "b70b88cb-6bb0-4120-8ba3-50289e65a363",
   "metadata": {},
   "outputs": [
    {
     "data": {
      "text/plain": [
       "8"
      ]
     },
     "execution_count": 3,
     "metadata": {},
     "output_type": "execute_result"
    }
   ],
   "source": [
    "len(\"feyisara\")"
   ]
  },
  {
   "cell_type": "code",
   "execution_count": 5,
   "id": "175fad6e-a76a-428e-8720-5e89b468c37f",
   "metadata": {},
   "outputs": [
    {
     "data": {
      "text/plain": [
       "14"
      ]
     },
     "execution_count": 5,
     "metadata": {},
     "output_type": "execute_result"
    }
   ],
   "source": [
    "len(\"jinadu-adewale\")"
   ]
  },
  {
   "cell_type": "code",
   "execution_count": null,
   "id": "901887cd-a6c8-41f7-b17e-1d28fa1a22de",
   "metadata": {},
   "outputs": [],
   "source": [
    "#declare a variable called school_name\n",
    "#assign a value to be Metro Innovation Hub"
   ]
  },
  {
   "cell_type": "code",
   "execution_count": 29,
   "id": "13b37edb-78fc-4c26-8c24-7662ff7e95a0",
   "metadata": {},
   "outputs": [
    {
     "name": "stdout",
     "output_type": "stream",
     "text": [
      "['Metro', 'Innovation', 'Hub']\n"
     ]
    }
   ],
   "source": [
    "School_name= \"Metro Innovation Hub\"\n",
    "print(School_name.split(\" \"))"
   ]
  },
  {
   "cell_type": "code",
   "execution_count": 79,
   "id": "d9fe42ba-09be-404f-96be-5ec3b2e15730",
   "metadata": {},
   "outputs": [
    {
     "name": "stdout",
     "output_type": "stream",
     "text": [
      "['tims', 'yahoo.com']\n",
      "yahoo.com\n"
     ]
    }
   ],
   "source": [
    "email=\"tims@yahoo.com\"\n",
    "email_split=email.split(\"@\")\n",
    "print(email_split)\n",
    "room_1=email_split[1]\n",
    "print(room_1)"
   ]
  },
  {
   "cell_type": "code",
   "execution_count": null,
   "id": "1f686c97-58bc-4c1c-bea7-c37e517e53fc",
   "metadata": {},
   "outputs": [],
   "source": [
    "#bracket is for funtions amd methods\n",
    "#square bracket is for indexes, whether array\n",
    "#coilly braces is for variables"
   ]
  },
  {
   "cell_type": "code",
   "execution_count": 69,
   "id": "3da647de-4cbf-4107-90e6-e7ded6d10f94",
   "metadata": {},
   "outputs": [
    {
     "data": {
      "text/plain": [
       "['feyisara']"
      ]
     },
     "execution_count": 69,
     "metadata": {},
     "output_type": "execute_result"
    }
   ],
   "source": [
    "name=\"feyisara\"\n",
    "location=\"ibadan\"\n",
    "name.split(\" \")\n"
   ]
  },
  {
   "cell_type": "code",
   "execution_count": 89,
   "id": "8a7074cd-3192-4fb3-9f12-9da7a01ddeae",
   "metadata": {},
   "outputs": [
    {
     "name": "stdout",
     "output_type": "stream",
     "text": [
      "['i', 'want', 'to', 'fly']\n",
      "i want to fly\n"
     ]
    }
   ],
   "source": [
    "idea= \"i want to fly\"\n",
    "split_idea= idea.split(' ')\n",
    "print(split_idea)\n",
    "unsplit_idea= ' '.join(split_idea)\n",
    "print(unsplit_idea)"
   ]
  },
  {
   "cell_type": "code",
   "execution_count": 93,
   "id": "42967b6c-efd8-4466-9136-639d7632fd75",
   "metadata": {},
   "outputs": [
    {
     "name": "stdout",
     "output_type": "stream",
     "text": [
      "*\n",
      "*\n",
      "*\n",
      "*\n",
      "*\n",
      "*\n",
      "*\n",
      "******************\n"
     ]
    }
   ],
   "source": [
    "print (\"*\")\n",
    "print (\"*\")\n",
    "print (\"*\")\n",
    "print (\"*\")\n",
    "print (\"*\")\n",
    "print (\"*\")\n",
    "print (\"*\")\n",
    "print (\"******************\")"
   ]
  },
  {
   "cell_type": "code",
   "execution_count": 13,
   "id": "b509952e-b814-43bf-a846-f1dc443a0209",
   "metadata": {},
   "outputs": [
    {
     "name": "stdout",
     "output_type": "stream",
     "text": [
      "                        ***                               ***\n",
      "                     ***     ***                     ***        ***\n",
      "                   ***             ***          ***                 ***\n",
      "                    ***                    ***                     ***\n",
      "                     ***                                         ***\n",
      "                        ***                                    ***\n",
      "                          ***                                ***\n",
      "                            ***                            ***\n",
      "                               ***                       ***\n",
      "                                 ***                   ***\n",
      "                                   ***               ***\n",
      "                                     ***           ***\n",
      "                                       ***       ***\n"
     ]
    }
   ],
   "source": [
    "print(\"                        ***                               ***\")\n",
    "print(\"                     ***     ***                     ***        ***\")\n",
    "print(\"                   ***             ***          ***                 ***\")\n",
    "print(\"                    ***                    ***                     ***\")\n",
    "print(\"                     ***                                         ***\")\n",
    "print(\"                        ***                                    ***\")\n",
    "print(\"                          ***                                ***\")\n",
    "print(\"                            ***                            ***\")\n",
    "print(\"                               ***                       ***\")\n",
    "print(\"                                 ***                   ***\")\n",
    "print(\"                                   ***               ***\")\n",
    "print(\"                                     ***           ***\") \n",
    "print(\"                                       ***       ***\")           \n"
   ]
  },
  {
   "cell_type": "code",
   "execution_count": null,
   "id": "3cb6710f-2158-4c02-a16f-be9094064565",
   "metadata": {},
   "outputs": [],
   "source": []
  },
  {
   "cell_type": "code",
   "execution_count": null,
   "id": "2c37c09d-2389-4cb2-90f8-f039b333b9bf",
   "metadata": {},
   "outputs": [],
   "source": []
  }
 ],
 "metadata": {
  "kernelspec": {
   "display_name": "Python 3 (ipykernel)",
   "language": "python",
   "name": "python3"
  },
  "language_info": {
   "codemirror_mode": {
    "name": "ipython",
    "version": 3
   },
   "file_extension": ".py",
   "mimetype": "text/x-python",
   "name": "python",
   "nbconvert_exporter": "python",
   "pygments_lexer": "ipython3",
   "version": "3.12.4"
  }
 },
 "nbformat": 4,
 "nbformat_minor": 5
}
